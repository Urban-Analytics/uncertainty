{
 "cells": [
  {
   "cell_type": "markdown",
   "metadata": {},
   "source": [
    "# Basic approximate bayesian computation on the RISC model"
   ]
  },
  {
   "cell_type": "markdown",
   "metadata": {},
   "source": [
    "The RISC model simulates changes in Scottish cattle farms over time. In the model, each year every farm owner makes a decision that will affect the number of cattle and, therefore, the size of the farm. There are 4 different factors that may affect their decision. These are:\n",
    "- Succession: Whether or not the owner has a successor.\n",
    "- Leisure: Whether farming is considered as a secondary (rather than primary) source of income.\n",
    "- Diversification: Whether the farm is considered for diversification into tourism.\n",
    "- Industrialisation: Whether a professional manager could be employed to help with an increased farm size.\n",
    "\n",
    "In the model, each of these four factors may be on (affecting decision making) or off (not considered). Given there are four factors that must be in one of two states, there are a total of 16 possible sets of parameters (numbered 0 to 15).\n",
    "\n",
    "The model has three outputs, each of which is time series data representing the number of *small*, *medium* and *large* farms over a period of 13 years. \n",
    "\n",
    "Previous to this notebook, I ran history matching on each of the 16 possible models, and found that models 12-15 are plausible (matching the results in Jiaqi's paper). Next, we perform some basic approximate bayesian computation on these four remaining models."
   ]
  },
  {
   "cell_type": "markdown",
   "metadata": {},
   "source": [
    "We want to test the probability that each of the four remaining models can recreate the empirical data. To do this, we run each model 25 times. For each run, we measure the error of each output (no. of small, medium and large farms) by calculating the mean absolute scaled error (MASE) against the empirical data. If this error is less than or equal to a given threshold (for each output) then we accept the simulation. If the error is greater than the threshold (for any output) we reject it. We use the total number of acceptances (out of our 25 runs) to derive the probability that the given set of parameters is suitable.\n",
    "\n",
    "How we decide what this threshold should be is subjective. Initially, we'll set the threshold to be equal to our uncertainties about the model. We take two factors into account when calculating uncertainty:\n",
    "1. The ensemble variance --- that is, how much the outputs vary each time the model is run. To measure this, we calculate the variance between an ensemble of 25 runs. We measure the variance separately for each output.\n",
    "2. The model discrepancy --- the error of the output, measured as the MASE between the output and empirical data.\n",
    "We average the ensemble variance and model discrepancy over the four models we are testing and use the sum of these two measures as our quantified uncertainty about the models. This will be our error threshold.\n"
   ]
  },
  {
   "cell_type": "code",
   "execution_count": 1,
   "metadata": {},
   "outputs": [
    {
     "name": "stdout",
     "output_type": "stream",
     "text": [
      "{12: 25, 13: 25, 14: 0, 15: 0}\n"
     ]
    }
   ],
   "source": [
    "import pandas as pd\n",
    "import numpy as np\n",
    "import matplotlib.pyplot as plt\n",
    "\n",
    "import helper\n",
    "\n",
    "k = 25  # number of ensembles run with results saved\n",
    "plaus_space = [12, 13, 14, 15]  # indexes of the plausible models found in history matching\n",
    "uncert = {'n small': 1.165, 'n medium': 1.484, 'n large': 2.561}  # each output has an individually measured uncertainty\n",
    "\n",
    "posteriors = dict((x, 0) for x in plaus_space)\n",
    "# each possible set of factors is referred to as a \"driver\"\n",
    "for driver_i in plaus_space:\n",
    "    driver = helper.drivers[driver_i]\n",
    "    for i in range(k):\n",
    "        # the simulations have been prerun and saved to csv\n",
    "        df = pd.read_csv(helper.get_fp(driver)[:-5] + str(i+1) + '.csv')\n",
    "        passed = True  # assume passed until proven otherwise\n",
    "        for output in helper.OUTPUTS:\n",
    "            obs = helper.observations[output].tolist()\n",
    "            est = df[output].tolist()\n",
    "            d = helper.error_func(obs, est)  # compute distance\n",
    "            # if one output fails to pass, the whole simulation has failed\n",
    "            if d > uncert[output]**2:\n",
    "                passed = False\n",
    "                break\n",
    "        if passed:\n",
    "            posteriors[driver_i] += 1\n",
    "print(posteriors)"
   ]
  },
  {
   "cell_type": "markdown",
   "metadata": {},
   "source": [
    "Models 12 and 13 passed the threshold in all of the 25 ensemble runs.\n",
    "Models 14 and 15 failed for all ensemble runs.\n",
    "\n",
    "**If the threshold was slightly higher, would drivers 14 and 15 pass?**\n",
    "Next, we'll test the effects of using different thresholds by perturbing the originals. We'll change the threshold to be between -0.15 and +0.15 of the original (remember, each model output has a separate threshold)."
   ]
  },
  {
   "cell_type": "code",
   "execution_count": 2,
   "metadata": {},
   "outputs": [],
   "source": [
    "def run(perturb, plaus_space):\n",
    "    #  perturb: a value stating how much to perturbate the uncertainty\n",
    "    posteriors = dict((x, 0) for x in plaus_space)\n",
    "    for driver_i in plaus_space:\n",
    "        driver = helper.drivers[driver_i]\n",
    "        for i in range(k):\n",
    "            df = pd.read_csv(helper.get_fp(driver)[:-5] + str(i+1) + '.csv')\n",
    "            passed = True  # assume passed until proven otherwise\n",
    "            for output in helper.OUTPUTS:\n",
    "                obs = helper.observations[output].tolist()\n",
    "                est = df[output].tolist()\n",
    "                d = helper.error_func(obs, est)  # compute distance\n",
    "                # if one output fails to pass, the whole simulation fails\n",
    "                if d > (uncert[output] + perturb)**2:\n",
    "                    passed = False\n",
    "                    break\n",
    "            if passed:\n",
    "                posteriors[driver_i] += 1\n",
    "    return posteriors\n"
   ]
  },
  {
   "cell_type": "code",
   "execution_count": 3,
   "metadata": {},
   "outputs": [
    {
     "data": {
      "image/png": "[encoded data removed]",
      "text/plain": [
       "<Figure size 432x288 with 1 Axes>"
      ]
     },
     "metadata": {
      "needs_background": "light"
     },
     "output_type": "display_data"
    }
   ],
   "source": [
    "perturbator = np.linspace(-0.15, 0.15, 101)\n",
    "Y = dict((ps, []) for ps in plaus_space)\n",
    "for peturb in perturbator:\n",
    "    post = run(peturb, plaus_space)\n",
    "    for ps in (plaus_space):\n",
    "        Y[ps].append(post[ps])\n",
    "for ps in (plaus_space):\n",
    "    plt.plot(list(perturbator), Y[ps], label=str(ps))\n",
    "plt.xlabel('perturbation')\n",
    "plt.ylabel('total accepted (out of 25)')\n",
    "plt.legend()\n",
    "plt.show()"
   ]
  },
  {
   "cell_type": "markdown",
   "metadata": {},
   "source": [
    "For models 12 and 13, a threshold any lower than the original results in rejections. For model 13 every ensemble becomes rejected. For model 12, there is a more gradual slope of rejections.\n",
    "\n",
    "Model 14 needs a threhold greater by 0.11 for all ensembles to be accepted and model 15 needs an increase by 0.1.\n",
    "\n",
    "**How significant is the difference between models 12 & 13 compared against models 14 & 15? There is a clear visual difference, but how do we determine if this is significant, and is the original choice for the threshold (where perturbation = 0) a good one?**\n",
    "\n",
    "Our history matching (done prior to this notebook) reduced our initial 16 plausible parameter sets to just 4 (referred to as models 12-15). We next investigate how these 4 differ from the 12 that were rejected.\n",
    "\n",
    "The 12 models that were rejected were excluded because their error (difference between simulation results and empirical data) was too large. We'd like to know how much larger is the error of these 12 rejected models compared to the 4 we kept? To put it another way, how much would we need to increase our error threshold to keep these 12 models?\n",
    "\n",
    "We investigate perturbing the threshold in the range [-0.15, 5]."
   ]
  },
  {
   "cell_type": "code",
   "execution_count": 4,
   "metadata": {},
   "outputs": [
    {
     "data": {
      "image/png": "[encoded data removed]",
      "text/plain": [
       "<Figure size 432x288 with 1 Axes>"
      ]
     },
     "metadata": {
      "needs_background": "light"
     },
     "output_type": "display_data"
    }
   ],
   "source": [
    "plaus_space = list(range(16))\n",
    "start_found = []\n",
    "end_found = []\n",
    "start_end = dict((ps, []) for ps in plaus_space)\n",
    "perturbator = np.linspace(-0.15, 5, 101)\n",
    "for perturb in perturbator:\n",
    "    post = run(perturb, plaus_space)\n",
    "    for ps in plaus_space:\n",
    "        if post[ps] > 0 and ps not in start_found:\n",
    "            start_found.append(ps)\n",
    "            start_end[ps].append(perturb)\n",
    "        if post[ps] == 25 and ps not in end_found:\n",
    "            end_found.append(ps)\n",
    "            start_end[ps].append(perturb)\n",
    "\n",
    "for ps in plaus_space:\n",
    "    if start_end[ps][0] != start_end[ps][1]:\n",
    "        plt.plot([ps, ps], start_end[ps], linewidth=2)\n",
    "    else:\n",
    "        plt.scatter((ps,), (start_end[ps][0],))\n",
    "plt.xlabel('model id')\n",
    "plt.ylabel('perturbation range')\n",
    "plt.show()\n"
   ]
  },
  {
   "cell_type": "markdown",
   "metadata": {},
   "source": [
    "The above figure shows how much the error threshold needs to be increased to accept each models. The x axis indicates the ID of the model. Each model has a vertical line (or dot) associated with it.\n",
    "For a line, the bottom of the line indicates the smallest increase in the threshold required to accept some (but not all) simulation runs (i.e. the bottom of the slope in the previous figure).\n",
    "The top of the line indicates the threshold increase required to accept all given simulation runs (i.e. the top of the slope).\n",
    "A dot indicates there is no gradual increase (i.e. there is no threshold for which only some simulation runs were accepted) and instead all runs were rejected below this point and all were accepted above this point.\n",
    "\n",
    "## Discussion\n",
    "The results in the figure above show that the 16 models can be grouped into three clusters based on the size of their error when compared with the observational data.\n",
    "\n",
    "The group with the lowest error contains models 12--15. These have the common features that both succession and leisure are switched on (i.e. they form part of the farm owner's decision making). The other two factors (diversification and industrialisation) are mixed within this group. This suggests that the availability of a successor and the prospect of using farming as a secondary source of income (leisure) are important factors when making decisions on the size of a cattle farm.\n",
    "\n",
    "The middle group contains models 0--7. The common feature in this group is that the succession switch is turned off. The remaining three factors are all mixed. This suggests that if succession is not considered part of the decision making process then it does not matter if any other factors are considered. That is, there is no (visual) difference between succession being switched off and all other factors switched on compared to all four switched off.\n",
    "\n",
    "The group with the largest error contains models 8--11. These have the common features that succession is switched on and leisure is off. The other two factors are mixed. The high error in this group suggests that if succession is a factor in decision making then it is important to also consider leisure.\n",
    "\n",
    "The figure below highlights which factors are switched on/off for which models; black indicates off, green indicates on.\n",
    "\n",
    "The factors diversification and industrialisation had no effect in clustering the models. Each of the three groups contains every possible combination of these two factors. Therefore, the results suggest that these two factors are not useful for predicting the trend in farm sizes over time. While they may be used as part of decision making for some farmers, they are not useful for predicting farming trends as a whole, and are therefore unlikely to be used by the majority of farmers. Instead, succession and leisure are the main factors for predicting farming trends, and these two factors must both be switched on to accurately model real world trends."
   ]
  },
  {
   "cell_type": "code",
   "execution_count": 3,
   "metadata": {},
   "outputs": [
    {
     "data": {
      "image/png": "[encoded data removed]",
      "text/plain": [
       "<Figure size 288x1152 with 1 Axes>"
      ]
     },
     "metadata": {
      "needs_background": "light"
     },
     "output_type": "display_data"
    }
   ],
   "source": [
    "import matplotlib.pyplot as plt\n",
    "from matplotlib.colors import LinearSegmentedColormap, Normalize\n",
    "import numpy as np\n",
    "\n",
    "import helper\n",
    "\n",
    "fig, ax = plt.subplots(figsize=(4, 16))\n",
    "Z = [[int(d) for d in driver] for driver in helper.drivers]\n",
    "nodes = [0, 0.5, 0.5, 1]\n",
    "colors = ['black', 'black', 'limegreen', 'limegreen']\n",
    "cmap = LinearSegmentedColormap.from_list(\"\", list(zip(nodes, colors)))\n",
    "im = plt.imshow(Z, cmap=cmap)\n",
    "plt.yticks(range(16))\n",
    "a, b = plt.xlim()\n",
    "plt.xticks(np.linspace(a+0.5, b-0.5, 4), ('succ.', 'leis.', 'divers.', 'indust.'))\n",
    "plt.xticks(rotation=90)\n",
    "# fix for mpl bug that cuts off top/bottom of plot\n",
    "b, t = plt.ylim() \n",
    "ax.set_ylabel('model id')\n",
    "plt.ylim(b+0.5, t-0.5)\n",
    "plt.show()"
   ]
  },
  {
   "cell_type": "code",
   "execution_count": null,
   "metadata": {},
   "outputs": [],
   "source": []
  }
 ],
 "metadata": {
  "kernelspec": {
   "display_name": "Python 3",
   "language": "python",
   "name": "python3"
  },
  "language_info": {
   "codemirror_mode": {
    "name": "ipython",
    "version": 3
   },
   "file_extension": ".py",
   "mimetype": "text/x-python",
   "name": "python",
   "nbconvert_exporter": "python",
   "pygments_lexer": "ipython3",
   "version": "3.8.5"
  }
 },
 "nbformat": 4,
 "nbformat_minor": 4
}
