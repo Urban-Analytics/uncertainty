{
 "cells": [
  {
   "cell_type": "markdown",
   "metadata": {},
   "source": [
    "# Basic approximate bayesian computation on the RISC model"
   ]
  },
  {
   "cell_type": "code",
   "execution_count": 1,
   "metadata": {},
   "outputs": [],
   "source": [
    "import pandas as pd\n",
    "import numpy as np\n",
    "import matplotlib.pyplot as plt\n",
    "\n",
    "import helper"
   ]
  },
  {
   "cell_type": "markdown",
   "metadata": {},
   "source": [
    "There are 4 different switches in the model that can be on or off, making for a total of 16 possibilities (numbered 0 to 15).\n",
    "\n",
    "I've run each of these 16 models a total of 25 times and saved the results. I then ran history matching with the results, which found that models 12-15 are plausible (matching the results in the paper).\n",
    "\n",
    "The model has three outputs (number of small, medium and large farms over time). Each output has it's own associated uncertainty. This is the sum of the ensemble variance and average model discrepancy (the average error between the simulation results and the empirical data).\n",
    "\n",
    "Below, are these results."
   ]
  },
  {
   "cell_type": "code",
   "execution_count": 2,
   "metadata": {},
   "outputs": [],
   "source": [
    "k = 25  # number of ensembles run with results saved\n",
    "\n",
    "# History matching results\n",
    "plaus_space = [12, 13, 14, 15]  # indexes of the plausible models\n",
    "# Each output has an individually measured uncertainty.\n",
    "uncert = {'n small': 1.165, 'n medium': 1.484, 'n large': 2.561}"
   ]
  },
  {
   "cell_type": "markdown",
   "metadata": {},
   "source": [
    "We want to test the probability that a given driver (set of switches) fits the data. To do this, we run each driver 25 times and see if the result is greater or less than a given threshold. If it is less then we accept it, otherwise we reject it. We use the total number of acceptances to derive the probability that the driver fits the model.\n",
    "\n",
    "How we decide what this threshold should be is subjective. Initially, we'll it to be the uncertainties that were found during history matching."
   ]
  },
  {
   "cell_type": "code",
   "execution_count": 3,
   "metadata": {},
   "outputs": [
    {
     "name": "stdout",
     "output_type": "stream",
     "text": [
      "{12: 25, 13: 25, 14: 0, 15: 0}\n"
     ]
    }
   ],
   "source": [
    "posteriors = dict((x, 0) for x in plaus_space)\n",
    "for driver_i in plaus_space:\n",
    "    driver = helper.drivers[driver_i]\n",
    "    for i in range(k):\n",
    "        df = pd.read_csv(helper.get_fp(driver)[:-5] + str(i+1) + '.csv')\n",
    "        passed = True  # assume passed until proven otherwise\n",
    "        for output in helper.OUTPUTS:\n",
    "            obs = helper.observations[output].tolist()\n",
    "            est = df[output].tolist()\n",
    "            d = helper.error_func(obs, est)  # compute distance\n",
    "            # if one output fails to pass, the whole simulation fails\n",
    "            if d > uncert[output]**2:\n",
    "                passed = False\n",
    "        if passed:\n",
    "            posteriors[driver_i] += 1\n",
    "print(posteriors)"
   ]
  },
  {
   "cell_type": "markdown",
   "metadata": {},
   "source": [
    "Drivers 12 and 13 passed the threshold in all of the 25 ensemble runs.\n",
    "Drivers 14 and 15 failed for all ensemble runs.\n",
    "\n",
    "**If the threshold was slightly higher, would drivers 14 and 15 pass?**\n",
    "Next, we'll test the effects of using different thresholds by perturbing the originals. We'll change the threshold to be between -0.15 and +0.15 of the original (remember, each model output has a separate threshold)."
   ]
  },
  {
   "cell_type": "code",
   "execution_count": 4,
   "metadata": {},
   "outputs": [
    {
     "data": {
      "image/png": "[encoded data removed]",
      "text/plain": [
       "<Figure size 432x288 with 1 Axes>"
      ]
     },
     "metadata": {
      "needs_background": "light"
     },
     "output_type": "display_data"
    }
   ],
   "source": [
    "def run(perturb):\n",
    "    #  perturb: a value stating how much to perturbate the uncertainty\n",
    "    posteriors = dict((x, 0) for x in plaus_space)\n",
    "    for driver_i in plaus_space:\n",
    "        driver = helper.drivers[driver_i]\n",
    "        for i in range(k):\n",
    "            df = pd.read_csv(helper.get_fp(driver)[:-5] + str(i+1) + '.csv')\n",
    "            passed = True  # assume passed until proven otherwise\n",
    "            for output in helper.OUTPUTS:\n",
    "                obs = helper.observations[output].tolist()\n",
    "                est = df[output].tolist()\n",
    "                d = helper.error_func(obs, est)  # compute distance\n",
    "                # if one output fails to pass, the whole simulation fails\n",
    "                if d > (uncert[output] + peturb)**2:\n",
    "                    passed = False\n",
    "            if passed:\n",
    "                posteriors[driver_i] += 1\n",
    "    return posteriors\n",
    "\n",
    "perturbator = np.linspace(-0.15, 0.15, 1001)\n",
    "Y = {12:[], 13:[], 14:[], 15:[]}\n",
    "for peturb in perturbator:\n",
    "    post = run(peturb)\n",
    "    for ps in (12, 13, 14, 15):\n",
    "        Y[ps].append(post[ps])\n",
    "for ps in (12, 13, 14, 15):\n",
    "    plt.plot(list(perturbator), Y[ps], label=str(ps))\n",
    "plt.xlabel('perturbation')\n",
    "plt.ylabel('total accepted (out of 25)')\n",
    "plt.legend()\n",
    "plt.show()"
   ]
  },
  {
   "cell_type": "markdown",
   "metadata": {},
   "source": [
    "For drivers 12 and 13, a threshold any lower than the original results in rejections. For driver 13 every ensemble becomes rejected. For driver 12, there is a more gradual slope of rejections.\n",
    "\n",
    "Driver 14 needs a threhold greater by 0.11 for all ensembles to be accepted and driver 15 needs an increase by 0.1.\n",
    "\n",
    "**How significant is the difference between drivers 12 & 13 compared against drivers 14 & 15? There is a clear visual difference, but how do we determine if it's significant and is the original choice for the threshold (where perturbation = 0) a good one?**"
   ]
  }
 ],
 "metadata": {
  "kernelspec": {
   "display_name": "Python 3",
   "language": "python",
   "name": "python3"
  },
  "language_info": {
   "codemirror_mode": {
    "name": "ipython",
    "version": 3
   },
   "file_extension": ".py",
   "mimetype": "text/x-python",
   "name": "python",
   "nbconvert_exporter": "python",
   "pygments_lexer": "ipython3",
   "version": "3.8.2"
  }
 },
 "nbformat": 4,
 "nbformat_minor": 4
}
