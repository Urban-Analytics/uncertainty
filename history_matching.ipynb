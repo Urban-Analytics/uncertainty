{
 "cells": [
  {
   "cell_type": "markdown",
   "metadata": {},
   "source": [
    "# A basic history matching example using a deterministic function"
   ]
  },
  {
   "cell_type": "code",
   "execution_count": 1,
   "metadata": {},
   "outputs": [],
   "source": [
    "import math\n",
    "import matplotlib.pyplot as plt\n",
    "import numpy as np\n",
    "import random"
   ]
  },
  {
   "cell_type": "markdown",
   "metadata": {},
   "source": [
    "In this basic example, the observation measurement has no error."
   ]
  },
  {
   "cell_type": "markdown",
   "metadata": {},
   "source": [
    "We want to find the range of values in X that, given to the simulator, may produce the result y = -0.7"
   ]
  },
  {
   "cell_type": "code",
   "execution_count": 2,
   "metadata": {},
   "outputs": [],
   "source": [
    "y = -0.7  # observation we want to find with the model"
   ]
  },
  {
   "cell_type": "markdown",
   "metadata": {},
   "source": [
    "The simulator uses a sin function with added noise."
   ]
  },
  {
   "cell_type": "code",
   "execution_count": 3,
   "metadata": {},
   "outputs": [
    {
     "data": {
      "text/plain": [
       "<matplotlib.lines.Line2D at 0x7efd3383b4a8>"
      ]
     },
     "execution_count": 3,
     "metadata": {},
     "output_type": "execute_result"
    },
    {
     "data": {
      "image/png": "[encoded data removed]",
      "text/plain": [
       "<Figure size 432x288 with 1 Axes>"
      ]
     },
     "metadata": {
      "needs_background": "light"
     },
     "output_type": "display_data"
    }
   ],
   "source": [
    "def f(x):\n",
    "    \"\"\" the simulator \"\"\"\n",
    "    return math.sin(0.04 * math.pi * x)  + random.gauss(0, 0.1)\n",
    "\n",
    "# example plot of simulator output\n",
    "X = np.linspace(0, 60, 121)\n",
    "plt.plot(X, [math.sin(0.04 * math.pi * x) for x in X])  # without noise\n",
    "plt.plot(X, [f(x) for x in X])  # with simulator results\n",
    "plt.axhline(y=y, xmin=0, xmax=1)  # observation"
   ]
  },
  {
   "cell_type": "markdown",
   "metadata": {},
   "source": [
    "Get the variance of the ensembles.\n",
    "This is something that's a bit unclear in the papers I've read. This is my interpretation - it could be wrong:\n",
    "Test different inputs for multiple (k) ensembles and calculate the variance of those ensembles (for each input). Then calculate the mean across those variances."
   ]
  },
  {
   "cell_type": "code",
   "execution_count": 4,
   "metadata": {},
   "outputs": [],
   "source": [
    "k = 5  # total ensembles run for each input (keeping it low as it's a simple model, should really be at least 25)\n",
    "def get_v_ens(X):\n",
    "    vars_range = []\n",
    "    for x in X:\n",
    "        vars_range.append(np.var([f(x) for _ in range(k)], ddof=1))\n",
    "    return np.mean(vars_range)"
   ]
  },
  {
   "cell_type": "code",
   "execution_count": 5,
   "metadata": {},
   "outputs": [],
   "source": [
    "v_ens = get_v_ens(range(0, 60, 6))"
   ]
  },
  {
   "cell_type": "markdown",
   "metadata": {},
   "source": [
    "The implausibility score takes the difference between the simulator result and the observation, and divides this by all uncertainties in the model. At the moment, there is only variability in the ensemble results (v_ens).\n",
    "It could also take into account uncertainty in the observation and model discrepency."
   ]
  },
  {
   "cell_type": "code",
   "execution_count": 6,
   "metadata": {},
   "outputs": [],
   "source": [
    "def implaus(x):\n",
    "    \"\"\" Calculate the implausibility of the paramter value x\"\"\"\n",
    "    num = abs(y - f(x))  # no emulator, only simulator\n",
    "    denom = np.sqrt(v_ens)\n",
    "    return num / denom"
   ]
  },
  {
   "cell_type": "markdown",
   "metadata": {},
   "source": [
    "Run the first wave of history matching and plot the implausibility of each sample in the sample space (X).\n",
    "The plot shows orange for implausible values (where implausibility is above 3) and blue for plausible values."
   ]
  },
  {
   "cell_type": "code",
   "execution_count": 7,
   "metadata": {},
   "outputs": [],
   "source": [
    "def wave(implaus_space):\n",
    "    plaus_space = []\n",
    "    # plot the results\n",
    "    for x in implaus_space:\n",
    "        score = implaus(x)\n",
    "        if score < 3:\n",
    "            plt.scatter(x, score, color=u'#1f77b4')\n",
    "            plaus_space.append(x)\n",
    "        else:\n",
    "            plt.scatter(x, score, color=u'#ff7f0e')\n",
    "    plt.axhline(y=3, xmin=0, xmax=1)\n",
    "    return np.array(plaus_space)"
   ]
  },
  {
   "cell_type": "code",
   "execution_count": 8,
   "metadata": {},
   "outputs": [
    {
     "data": {
      "image/png": "[encoded data removed]",
      "text/plain": [
       "<Figure size 432x288 with 1 Axes>"
      ]
     },
     "metadata": {
      "needs_background": "light"
     },
     "output_type": "display_data"
    }
   ],
   "source": [
    "# The sampling space would normally be chosen using an LHS-design,\n",
    "# but this is a basic deterministic example so linspace will suffice.\n",
    "X = np.linspace(0, 60, 121)\n",
    "plaus_X = wave(X)"
   ]
  },
  {
   "cell_type": "markdown",
   "metadata": {},
   "source": [
    "These results show that values in the range [28, 45.5] are considered plausible.\n",
    "These ranges will differ each time the wave is run due to the Gaussian noise added to the simulator."
   ]
  },
  {
   "cell_type": "markdown",
   "metadata": {},
   "source": [
    "# An example using stationsim\n",
    "\n",
    "In this case, I'm using an \"identical twin\", in which one run of a simulation is used as the real world observation. This was run with default settings, with a population of 75 and random seed 1376479047.\n",
    "\n",
    "The goal is to explore the parameter space of speed_mean to find a range of values with which the simulation takes the expected amount of time (i.e. all people have left the station area in the measured time).\n",
    "\n",
    "The identical twin used the default speed_mean:1."
   ]
  },
  {
   "cell_type": "code",
   "execution_count": 9,
   "metadata": {},
   "outputs": [
    {
     "name": "stderr",
     "output_type": "stream",
     "text": [
      "/usr/local/lib/python3.6/dist-packages/statsmodels/tools/_testing.py:19: FutureWarning: pandas.util.testing is deprecated. Use the functions in the public API at pandas.testing instead.\n",
      "  import pandas.util.testing as tm\n"
     ]
    }
   ],
   "source": [
    "from sys import path\n",
    "path.append('..')  # change as required\n",
    "from stationsim.stationsim_model import Model\n",
    "\n",
    "# \"real world\" observation\n",
    "y = 1802\n",
    "y_pop_total = 75\n",
    "y_seed = 1376479047"
   ]
  },
  {
   "cell_type": "code",
   "execution_count": 10,
   "metadata": {},
   "outputs": [],
   "source": [
    "def f(x):\n",
    "    model = Model(pop_total=y_pop_total, speed_mean=x, do_print=False)\n",
    "    for _ in range(model.step_limit):\n",
    "        model.step()\n",
    "    return model.step_id  # finish time"
   ]
  },
  {
   "cell_type": "code",
   "execution_count": 11,
   "metadata": {},
   "outputs": [],
   "source": [
    "# test five different inputs\n",
    "v_ens = get_v_ens(linspace(0.4, 6, 5))"
   ]
  },
  {
   "cell_type": "code",
   "execution_count": 12,
   "metadata": {},
   "outputs": [
    {
     "data": {
      "image/png": "[encoded data removed]",
      "text/plain": [
       "<Figure size 432x288 with 1 Axes>"
      ]
     },
     "metadata": {
      "needs_background": "light"
     },
     "output_type": "display_data"
    }
   ],
   "source": [
    "# Test speed_mean in the range [0.4, 6].\n",
    "# Again, the sampling space would normally be chosen using an LHS-design.\n",
    "# I'm keeping it very simple for now.\n",
    "X = np.linspace(0.4, 6, 25)\n",
    "plaus_X = wave(X)"
   ]
  },
  {
   "cell_type": "markdown",
   "metadata": {},
   "source": [
    "Values around 0.4 to 2.7 are considered plausible. Higher values are implausible.\n",
    "The results seem about right given the correct result should be 1.\n",
    "As the simulator is stochastic, these ranges will be different each time"
   ]
  },
  {
   "cell_type": "markdown",
   "metadata": {},
   "source": [
    "Now do the second wave, testing within the new plausible region.\n",
    "The code I've done for this is overly simple because\n",
    "1. it assumes the plausible region is convex\n",
    "2. there is no clever sampling (I'm using linspace still)\n",
    "\n",
    "First, get the variance in this region."
   ]
  },
  {
   "cell_type": "code",
   "execution_count": 13,
   "metadata": {},
   "outputs": [],
   "source": [
    "# get variance in new plausible region\n",
    "v_ens = get_v_ens(np.linspace(min(plaus_X), max(plaus_X), 5))"
   ]
  },
  {
   "cell_type": "markdown",
   "metadata": {},
   "source": [
    "Second, test the plausibility of this new region with the new ensemble variance."
   ]
  },
  {
   "cell_type": "code",
   "execution_count": 14,
   "metadata": {},
   "outputs": [
    {
     "data": {
      "image/png": "[encoded data removed]",
      "text/plain": [
       "<Figure size 432x288 with 1 Axes>"
      ]
     },
     "metadata": {
      "needs_background": "light"
     },
     "output_type": "display_data"
    }
   ],
   "source": [
    "X = np.linspace(min(plaus_X), max(plaus_X), 25)\n",
    "plaus_X = wave(X)"
   ]
  },
  {
   "cell_type": "markdown",
   "metadata": {},
   "source": [
    "Nothing has really changed. Does this mean we're unable to narrow down the plausible space, or that I've misunderstood something?"
   ]
  },
  {
   "cell_type": "markdown",
   "metadata": {},
   "source": [
    "# "
   ]
  }
 ],
 "metadata": {
  "kernelspec": {
   "display_name": "Python 3",
   "language": "python",
   "name": "python3"
  },
  "language_info": {
   "codemirror_mode": {
    "name": "ipython",
    "version": 3
   },
   "file_extension": ".py",
   "mimetype": "text/x-python",
   "name": "python",
   "nbconvert_exporter": "python",
   "pygments_lexer": "ipython3",
   "version": "3.6.9"
  }
 },
 "nbformat": 4,
 "nbformat_minor": 2
}
