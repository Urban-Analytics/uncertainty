{
 "cells": [
  {
   "cell_type": "markdown",
   "metadata": {},
   "source": [
    "# A basic history matching example using a deterministic function"
   ]
  },
  {
   "cell_type": "code",
   "execution_count": 1,
   "metadata": {},
   "outputs": [],
   "source": [
    "import math\n",
    "import matplotlib.pyplot as plt\n",
    "import numpy as np\n",
    "import random"
   ]
  },
  {
   "cell_type": "markdown",
   "metadata": {},
   "source": [
    "We present a basic example of history matching using a deterministic function with noise as the model that history matching is performed on.\n",
    "\n",
    "This example is taken from:\n",
    "Andrianakis, I.; Vernon, I. R.; McCreesh, N.; McKinley, T. J.; Oakley, J. E.; Nsubuga, R. N.; Goldstein, M. & White, R. G. Bayesian history matching of complex infectious disease models using emulation: a tutorial and a case study on HIV in Uganda PLoS computational biology, Public Library of Science, 2015, 11"
   ]
  },
  {
   "cell_type": "markdown",
   "metadata": {},
   "source": [
    "We want to find the range of values in X that, given to the simulator, may produce the result y = -0.7"
   ]
  },
  {
   "cell_type": "code",
   "execution_count": 2,
   "metadata": {},
   "outputs": [],
   "source": [
    "y = -0.7  # observation we want to find with the model"
   ]
  },
  {
   "cell_type": "markdown",
   "metadata": {},
   "source": [
    "The simulator uses a sin function with added noise."
   ]
  },
  {
   "cell_type": "code",
   "execution_count": 3,
   "metadata": {},
   "outputs": [
    {
     "data": {
      "text/plain": [
       "<matplotlib.lines.Line2D at 0x7f79c69eea90>"
      ]
     },
     "execution_count": 3,
     "metadata": {},
     "output_type": "execute_result"
    },
    {
     "data": {
      "image/png": "[encoded data removed]",
      "text/plain": [
       "<Figure size 432x288 with 1 Axes>"
      ]
     },
     "metadata": {
      "needs_background": "light"
     },
     "output_type": "display_data"
    }
   ],
   "source": [
    "def f(x):\n",
    "    \"\"\" the simulator \"\"\"\n",
    "    return math.sin(0.04 * math.pi * x)  + random.gauss(0, 0.1)\n",
    "\n",
    "\n",
    "# example plot of simulator output\n",
    "X = np.linspace(0, 60, 121)\n",
    "plt.plot(X, [math.sin(0.04 * math.pi * x) for x in X])  # without noise\n",
    "plt.plot(X, [f(x) for x in X])  # with simulator results\n",
    "plt.axhline(y=y, xmin=0, xmax=1)  # observation"
   ]
  },
  {
   "cell_type": "markdown",
   "metadata": {},
   "source": [
    "Calculate the variance in the model output by testing different inputs for multiple (k) runs and calculating the variance of those runs (for each input). Then calculate the mean across those variances."
   ]
  },
  {
   "cell_type": "code",
   "execution_count": 4,
   "metadata": {},
   "outputs": [
    {
     "name": "stdout",
     "output_type": "stream",
     "text": [
      "Ensemble variance: 0.010042634470141474\n"
     ]
    }
   ],
   "source": [
    "k = 30  # total ensembles runs for each input\n",
    "def get_v_ens(X):\n",
    "    vars_range = []\n",
    "    for x in X:\n",
    "        vars_range.append(np.var([f(x) for _ in range(k)], ddof=1))\n",
    "    return np.mean(vars_range)\n",
    "\n",
    "v_ens = get_v_ens(range(0, 60, 6))\n",
    "\n",
    "print(\"Ensemble variance:\", v_ens)"
   ]
  },
  {
   "cell_type": "markdown",
   "metadata": {},
   "source": [
    "The implausibility score takes the difference between the simulator result and the observation, and divides this by all uncertainties in the model. At the moment, there is only variability in the ensemble results (v_ens).\n",
    "It could also take into account uncertainty in the observation and model discrepency."
   ]
  },
  {
   "cell_type": "code",
   "execution_count": 5,
   "metadata": {},
   "outputs": [],
   "source": [
    "def implaus(x):\n",
    "    \"\"\" Calculate the implausibility of the paramter value x\"\"\"\n",
    "    num = abs(y - f(x))  # no emulator, only simulator\n",
    "    denom = np.sqrt(v_ens)\n",
    "    return num / denom"
   ]
  },
  {
   "cell_type": "markdown",
   "metadata": {},
   "source": [
    "Run the first wave of history matching and plot the implausibility of each sample in the sample space (X).\n",
    "The plot shows orange for implausible values (where implausibility is above 3) and blue for plausible values."
   ]
  },
  {
   "cell_type": "code",
   "execution_count": 6,
   "metadata": {},
   "outputs": [
    {
     "data": {
      "image/png": "[encoded data removed]",
      "text/plain": [
       "<Figure size 432x288 with 1 Axes>"
      ]
     },
     "metadata": {
      "needs_background": "light"
     },
     "output_type": "display_data"
    }
   ],
   "source": [
    "def wave(implaus_space):\n",
    "    plaus_space = []\n",
    "    # plot the results\n",
    "    for x in implaus_space:\n",
    "        score = implaus(x)\n",
    "        if score < 3:\n",
    "            plt.scatter(x, score, color=u'#1f77b4')\n",
    "            plaus_space.append(x)\n",
    "        else:\n",
    "            plt.scatter(x, score, color=u'#ff7f0e')\n",
    "    plt.axhline(y=3, xmin=0, xmax=1)\n",
    "    return np.array(plaus_space)\n",
    "\n",
    "\n",
    "# The sampling space would normally be chosen using an LHS-design,\n",
    "# but this is a basic deterministic example so linspace will suffice.\n",
    "X = np.linspace(0, 60, 121)\n",
    "plaus_X = wave(X)"
   ]
  },
  {
   "cell_type": "markdown",
   "metadata": {},
   "source": [
    "These results show that values in the range [28, 45.5] are considered plausible.\n",
    "These ranges will differ each time the wave is run due to the Gaussian noise added to the simulator."
   ]
  },
  {
   "cell_type": "markdown",
   "metadata": {},
   "source": [
    "# Approximate Bayesian Computation on a deterministic example\n",
    "\n",
    "History matching helped us narrow down the space of plausible inputs. Next, we can perform Approximate Bayesian Computation (ABC) to obtain probabilities for each point in the plausible space.\n",
    "\n",
    "To achieve this, we use the package pyabc."
   ]
  },
  {
   "cell_type": "code",
   "execution_count": 7,
   "metadata": {},
   "outputs": [],
   "source": [
    "import pyabc\n",
    "\n",
    "import numpy as np\n",
    "import math\n",
    "import scipy.stats as st\n",
    "import tempfile\n",
    "import os\n",
    "import pandas as pd\n",
    "import random\n",
    "import matplotlib.pyplot as plt\n"
   ]
  },
  {
   "cell_type": "markdown",
   "metadata": {},
   "source": [
    "First, define the model. This model is the same as above but now the function model is returning a dict. A dict is overkill, but it demonstrates how we can easily expand ABC if we have multiple outputs within the dict."
   ]
  },
  {
   "cell_type": "code",
   "execution_count": 8,
   "metadata": {},
   "outputs": [],
   "source": [
    "def model(parameter):\n",
    "    return {\"data\": math.sin(0.04 * math.pi * parameter[\"x\"])+ random.gauss(0, 0.1)}"
   ]
  },
  {
   "cell_type": "markdown",
   "metadata": {},
   "source": [
    "Define the distance function; i.e. how we measure the error of the simulation against the observation. This is usually a simple meausure of difference."
   ]
  },
  {
   "cell_type": "code",
   "execution_count": 9,
   "metadata": {},
   "outputs": [],
   "source": [
    "def distance(x, y):\n",
    "    return abs(x[\"data\"] - y[\"data\"])"
   ]
  },
  {
   "cell_type": "markdown",
   "metadata": {},
   "source": [
    "Define our prior distribution for the parameter space. Through history matching, we found values between [28, 45.5] were deemed plausible inputs. We therefore set our prior as a uniform distribution in the range [28, 28+17.5]."
   ]
  },
  {
   "cell_type": "code",
   "execution_count": 10,
   "metadata": {},
   "outputs": [],
   "source": [
    "prior = pyabc.Distribution(x=pyabc.RV(\"uniform\", 28, 17.5))"
   ]
  },
  {
   "cell_type": "markdown",
   "metadata": {},
   "source": [
    "Initiate the ABC object."
   ]
  },
  {
   "cell_type": "code",
   "execution_count": 11,
   "metadata": {},
   "outputs": [
    {
     "name": "stderr",
     "output_type": "stream",
     "text": [
      "INFO:Sampler:Parallelizing the sampling on 4 cores.\n"
     ]
    }
   ],
   "source": [
    "abc = pyabc.ABCSMC(model, prior, distance)"
   ]
  },
  {
   "cell_type": "markdown",
   "metadata": {},
   "source": [
    "Add a database of our knowledge of the observation to the ABC."
   ]
  },
  {
   "cell_type": "code",
   "execution_count": 12,
   "metadata": {},
   "outputs": [
    {
     "name": "stderr",
     "output_type": "stream",
     "text": [
      "INFO:History:Start <ABCSMC(id=2, start_time=2020-11-23 10:40:52.996754, end_time=None)>\n"
     ]
    },
    {
     "data": {
      "text/plain": [
       "<pyabc.storage.history.History at 0x7f79950fa370>"
      ]
     },
     "execution_count": 12,
     "metadata": {},
     "output_type": "execute_result"
    }
   ],
   "source": [
    "db_path = (\"sqlite:///\" +\n",
    "           os.path.join(tempfile.gettempdir(), \"test.db\"))\n",
    "observation = -0.7\n",
    "abc.new(db_path, {\"data\": observation})"
   ]
  },
  {
   "cell_type": "markdown",
   "metadata": {},
   "source": [
    "Run ABC"
   ]
  },
  {
   "cell_type": "code",
   "execution_count": 13,
   "metadata": {},
   "outputs": [
    {
     "name": "stderr",
     "output_type": "stream",
     "text": [
      "INFO:ABC:Calibration sample before t=0.\n",
      "INFO:Epsilon:initial epsilon is 0.15908465357597623\n",
      "INFO:ABC:t: 0, eps: 0.15908465357597623.\n",
      "INFO:ABC:Acceptance rate: 100 / 253 = 3.9526e-01, ESS=1.0000e+02.\n",
      "INFO:ABC:t: 1, eps: 0.07723733689673427.\n",
      "INFO:ABC:Acceptance rate: 100 / 376 = 2.6596e-01, ESS=9.7573e+01.\n",
      "INFO:ABC:Stopping: minimum epsilon.\n",
      "INFO:History:Done <ABCSMC(id=2, start_time=2020-11-23 10:40:52.996754, end_time=2020-11-23 10:40:58.677084)>\n"
     ]
    }
   ],
   "source": [
    "history = abc.run(minimum_epsilon=.1, max_nr_populations=10)"
   ]
  },
  {
   "cell_type": "markdown",
   "metadata": {},
   "source": [
    "Plot the results"
   ]
  },
  {
   "cell_type": "code",
   "execution_count": 14,
   "metadata": {},
   "outputs": [
    {
     "data": {
      "text/plain": [
       "<matplotlib.legend.Legend at 0x7f798d419f70>"
      ]
     },
     "execution_count": 14,
     "metadata": {},
     "output_type": "execute_result"
    },
    {
     "data": {
      "image/png": "[encoded data removed]",
      "text/plain": [
       "<Figure size 432x288 with 1 Axes>"
      ]
     },
     "metadata": {
      "needs_background": "light"
     },
     "output_type": "display_data"
    }
   ],
   "source": [
    "fig, ax = plt.subplots()\n",
    "for t in range(history.max_t+1):\n",
    "    df, w = history.get_distribution(m=0, t=t)\n",
    "    pyabc.visualization.plot_kde_1d(\n",
    "        df, w,\n",
    "        xmin=28.8, xmax=45.5,\n",
    "        x=\"x\", ax=ax,\n",
    "        label=\"PDF t={}\".format(t))\n",
    "ax.axvline(observation, color=\"k\", linestyle=\"dashed\")\n",
    "ax.legend()"
   ]
  },
  {
   "cell_type": "markdown",
   "metadata": {},
   "source": [
    "The plot shows that ABC has enabled us to correctly identify paramters of higher probability."
   ]
  },
  {
   "cell_type": "markdown",
   "metadata": {},
   "source": [
    "## Find the mode\n",
    "\n",
    "Next, we get the mode of the distribution."
   ]
  },
  {
   "cell_type": "code",
   "execution_count": 15,
   "metadata": {},
   "outputs": [
    {
     "name": "stdout",
     "output_type": "stream",
     "text": [
      "t:0, mode:31.798623\n",
      "t:1, mode:31.522351\n"
     ]
    }
   ],
   "source": [
    "# this time get visualization to return the X and Y coordinates for the plot (using pyabc.visualization.kde.kde_1d)\n",
    "# instead of returning the plot itself, as before (using pyabc.visualization.plot_kde_1d)\n",
    "\n",
    "for t in range(history.max_t+1):\n",
    "    df, w = history.get_distribution(m=0, t=t)\n",
    "    X, Y = pyabc.visualization.kde.kde_1d(df, w, x='x')\n",
    "    mode = X[np.where(Y == max(Y))]\n",
    "    print('t:%d, mode:%f' % (t, mode))"
   ]
  },
  {
   "cell_type": "markdown",
   "metadata": {},
   "source": [
    "## An example of ABC in a discrete parameter space\n",
    "\n",
    "Next, we consider if our parameter space can only take discrete values."
   ]
  },
  {
   "cell_type": "markdown",
   "metadata": {},
   "source": [
    "Define the prior"
   ]
  },
  {
   "cell_type": "code",
   "execution_count": 15,
   "metadata": {},
   "outputs": [],
   "source": [
    "# domain of possible discrete values\n",
    "discrete_domain = range(28, 47)\n",
    "\n",
    "# priors\n",
    "# let each value in the domain have an equal prior probability\n",
    "width = len(discrete_domain)\n",
    "prior = pyabc.Distribution(\n",
    "          x=pyabc.RV('rv_discrete', values=(discrete_domain, [1/width] * width)))\n",
    "\n",
    "# transition kernels\n",
    "transition = pyabc.AggregatedTransition(mapping={\n",
    "    'x': pyabc.DiscreteJumpTransition(domain=discrete_domain, p_stay=0.7)})"
   ]
  },
  {
   "cell_type": "markdown",
   "metadata": {},
   "source": [
    "Set up the observations and run the model"
   ]
  },
  {
   "cell_type": "code",
   "execution_count": 16,
   "metadata": {},
   "outputs": [
    {
     "name": "stderr",
     "output_type": "stream",
     "text": [
      "INFO:Sampler:Parallelizing the sampling on 4 cores.\n",
      "INFO:History:Start <ABCSMC(id=2, start_time=2020-11-04 09:39:14.043014, end_time=None)>\n",
      "INFO:ABC:Calibration sample before t=0.\n",
      "INFO:Epsilon:initial epsilon is 0.19533801832606862\n",
      "INFO:ABC:t: 0, eps: 0.19533801832606862.\n",
      "INFO:ABC:Acceptance rate: 1000 / 1899 = 5.2659e-01, ESS=1.0000e+03.\n",
      "INFO:ABC:t: 1, eps: 0.10660846421987495.\n",
      "INFO:ABC:Acceptance rate: 1000 / 2785 = 3.5907e-01, ESS=9.3187e+02.\n",
      "INFO:ABC:t: 2, eps: 0.05617222367931417.\n",
      "INFO:ABC:Acceptance rate: 1000 / 4142 = 2.4143e-01, ESS=8.2711e+02.\n",
      "INFO:ABC:t: 3, eps: 0.029862364775652035.\n",
      "INFO:ABC:Acceptance rate: 1000 / 7765 = 1.2878e-01, ESS=8.0787e+02.\n",
      "INFO:ABC:t: 4, eps: 0.01482775630813066.\n",
      "INFO:ABC:Acceptance rate: 1000 / 14358 = 6.9648e-02, ESS=7.6011e+02.\n",
      "INFO:History:Done <ABCSMC(id=2, start_time=2020-11-04 09:39:14.043014, end_time=2020-11-04 09:39:55.367976)>\n"
     ]
    }
   ],
   "source": [
    "abc = pyabc.ABCSMC(model, prior, distance, transitions=transition, population_size=1000)\n",
    "db_path = (\"sqlite:///\" +\n",
    "           os.path.join(tempfile.gettempdir(), \"test.db\"))\n",
    "observation = -0.7\n",
    "abc.new(db_path, {\"data\": observation})\n",
    "history = abc.run(max_nr_populations=5)"
   ]
  },
  {
   "cell_type": "markdown",
   "metadata": {},
   "source": [
    "Plot the results"
   ]
  },
  {
   "cell_type": "code",
   "execution_count": 17,
   "metadata": {},
   "outputs": [
    {
     "data": {
      "image/png": "[encoded data removed]",
      "text/plain": [
       "<Figure size 432x864 with 5 Axes>"
      ]
     },
     "metadata": {
      "needs_background": "light"
     },
     "output_type": "display_data"
    }
   ],
   "source": [
    "fig, axes = plt.subplots(history.max_t+1, 1, figsize=(6, 12))\n",
    "for t in range(history.max_t+1):\n",
    "    pyabc.visualization.plot_histogram_1d(\n",
    "        history, 'x', t=t, align='left', ax=axes[t])\n",
    "    axes[t].set_ylabel(f\"Posterior t={t}\")\n",
    "fig.tight_layout()\n",
    "plt.show()\n"
   ]
  },
  {
   "cell_type": "markdown",
   "metadata": {},
   "source": [
    "# An example of history matching using stationsim\n",
    "\n",
    "In this case, I'm using an \"identical twin\", in which one run of a simulation is used as the real world observation. This was run with default settings, with a population of 75 and random seed 1376479047.\n",
    "\n",
    "The goal is to explore the parameter space of speed_mean to find a range of values with which the simulation takes the expected amount of time (i.e. all people have left the station area in the measured time).\n",
    "\n",
    "The identical twin used the default speed_mean:1."
   ]
  },
  {
   "cell_type": "code",
   "execution_count": 9,
   "metadata": {},
   "outputs": [
    {
     "name": "stderr",
     "output_type": "stream",
     "text": [
      "/usr/local/lib/python3.6/dist-packages/statsmodels/tools/_testing.py:19: FutureWarning: pandas.util.testing is deprecated. Use the functions in the public API at pandas.testing instead.\n",
      "  import pandas.util.testing as tm\n"
     ]
    }
   ],
   "source": [
    "from sys import path\n",
    "path.append('..')  # change as required\n",
    "from stationsim.stationsim_model import Model\n",
    "\n",
    "# \"real world\" observation\n",
    "y = 1802\n",
    "y_pop_total = 75\n",
    "y_seed = 1376479047"
   ]
  },
  {
   "cell_type": "code",
   "execution_count": 10,
   "metadata": {},
   "outputs": [],
   "source": [
    "def f(x):\n",
    "    model = Model(pop_total=y_pop_total, speed_mean=x, do_print=False)\n",
    "    for _ in range(model.step_limit):\n",
    "        model.step()\n",
    "    return model.step_id  # finish time"
   ]
  },
  {
   "cell_type": "code",
   "execution_count": 11,
   "metadata": {},
   "outputs": [],
   "source": [
    "# test five different inputs\n",
    "v_ens = get_v_ens(linspace(0.4, 6, 5))"
   ]
  },
  {
   "cell_type": "code",
   "execution_count": 12,
   "metadata": {},
   "outputs": [
    {
     "data": {
      "image/png": "[encoded data removed]",
      "text/plain": [
       "<Figure size 432x288 with 1 Axes>"
      ]
     },
     "metadata": {
      "needs_background": "light"
     },
     "output_type": "display_data"
    }
   ],
   "source": [
    "# Test speed_mean in the range [0.4, 6].\n",
    "# Again, the sampling space would normally be chosen using an LHS-design.\n",
    "# I'm keeping it very simple for now.\n",
    "X = np.linspace(0.4, 6, 25)\n",
    "plaus_X = wave(X)"
   ]
  },
  {
   "cell_type": "markdown",
   "metadata": {},
   "source": [
    "Values around 0.4 to 2.7 are considered plausible. Higher values are implausible.\n",
    "The results seem about right given the correct result should be 1.\n",
    "As the simulator is stochastic, these ranges will be different each time"
   ]
  },
  {
   "cell_type": "markdown",
   "metadata": {},
   "source": [
    "Now do the second wave, testing within the new plausible region.\n",
    "The code I've done for this is overly simple because\n",
    "1. it assumes the plausible region is convex\n",
    "2. there is no clever sampling (I'm using linspace still)\n",
    "\n",
    "First, get the variance in this region."
   ]
  },
  {
   "cell_type": "code",
   "execution_count": 13,
   "metadata": {},
   "outputs": [],
   "source": [
    "# get variance in new plausible region\n",
    "v_ens = get_v_ens(np.linspace(min(plaus_X), max(plaus_X), 5))"
   ]
  },
  {
   "cell_type": "markdown",
   "metadata": {},
   "source": [
    "Second, test the plausibility of this new region with the new ensemble variance."
   ]
  },
  {
   "cell_type": "code",
   "execution_count": 14,
   "metadata": {},
   "outputs": [
    {
     "data": {
      "image/png": "[encoded data removed]",
      "text/plain": [
       "<Figure size 432x288 with 1 Axes>"
      ]
     },
     "metadata": {
      "needs_background": "light"
     },
     "output_type": "display_data"
    }
   ],
   "source": [
    "X = np.linspace(min(plaus_X), max(plaus_X), 25)\n",
    "plaus_X = wave(X)"
   ]
  },
  {
   "cell_type": "markdown",
   "metadata": {},
   "source": [
    "Nothing has really changed. History matching doesn't enable us to narrow down the plausible space any further."
   ]
  },
  {
   "cell_type": "markdown",
   "metadata": {},
   "source": [
    "# "
   ]
  }
 ],
 "metadata": {
  "kernelspec": {
   "display_name": "Python 3",
   "language": "python",
   "name": "python3"
  },
  "language_info": {
   "codemirror_mode": {
    "name": "ipython",
    "version": 3
   },
   "file_extension": ".py",
   "mimetype": "text/x-python",
   "name": "python",
   "nbconvert_exporter": "python",
   "pygments_lexer": "ipython3",
   "version": "3.8.5"
  }
 },
 "nbformat": 4,
 "nbformat_minor": 2
}
