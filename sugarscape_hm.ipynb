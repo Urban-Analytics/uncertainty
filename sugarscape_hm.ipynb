{
 "cells": [
  {
   "cell_type": "markdown",
   "metadata": {},
   "source": [
    "# History matching in sugarscape\n",
    "\n",
    "A very brief description of sugarscape:\n",
    "The environment grows sugar. The amount of sugar any location in the environment is capable of growing is in the range [0, 4].\n",
    "Agents wander around harvesting sugar. The eat only what they need, and carry around any extra sugar they harvested.\n",
    "After a location has been harvested, it regenerates its sugar by 1 each step in the simulation.\n",
    "If there's not enough sugar in the agent's current location they try to move to a new location that has more sugar. They're limited in how far they can see and, therefore, how far they can move.\n",
    "If they can't find enough sugar they die.\n"
   ]
  },
  {
   "cell_type": "code",
   "execution_count": 1,
   "metadata": {},
   "outputs": [],
   "source": [
    "import numpy as np\n",
    "\n",
    "from sugarscape_cg.model import SugarscapeCg\n",
    "\n",
    "import history_matching"
   ]
  },
  {
   "cell_type": "markdown",
   "metadata": {},
   "source": [
    "## Exploring maximum metabolism"
   ]
  },
  {
   "cell_type": "markdown",
   "metadata": {},
   "source": [
    "Create a function that takes the parameter(s) being tested and returns the output of interest.\n",
    "In this example, we'll explore the effect of changing the agents maximum metabolism.\n",
    "The higher an agent's metabolism, the more food they need to eat to survive.\n",
    "\n",
    "The model will run for 50 steps as I found this was always sufficient to achieve a steady population state."
   ]
  },
  {
   "cell_type": "code",
   "execution_count": 2,
   "metadata": {},
   "outputs": [],
   "source": [
    "def run_simulation(x):\n",
    "    SS = SugarscapeCg(max_metabolism=x)\n",
    "    SS.verbose = False\n",
    "    y =  SS.run_model(step_count=50)\n",
    "    return y"
   ]
  },
  {
   "cell_type": "markdown",
   "metadata": {},
   "source": [
    "We'll pretend one given run of the simulation is the \"real world\". In this case, the area was able to sustain a population of 66 agents.\n",
    "\n",
    "Note, the initial population in the model is 100, and agents die if there is not enough food --- in fact, this is the only way they can die."
   ]
  },
  {
   "cell_type": "code",
   "execution_count": 3,
   "metadata": {},
   "outputs": [],
   "source": [
    "history_matching.y = 66  # the real world observation\n",
    "history_matching.f = run_simulation  # the function (simulation) used for history matching"
   ]
  },
  {
   "cell_type": "markdown",
   "metadata": {},
   "source": [
    "History matching involves multiple waves, each of which should (hopefully) narrow down the plausible space.\n",
    "There are several different stopping criteria that can be chosen to define when the waves should stop.\n",
    "Here, well use \"history_matching.is_all_plausible\", which checks if no new implausible spaces were found in the previous wave."
   ]
  },
  {
   "cell_type": "code",
   "execution_count": 4,
   "metadata": {},
   "outputs": [],
   "source": [
    "def run_history_matching(plaus_space):\n",
    "    new_plaus_space = history_matching.wave(np.array(plaus_space), True)\n",
    "    while not history_matching.is_all_plausible(plaus_space, new_plaus_space):\n",
    "        plaus_space = new_plaus_space\n",
    "        new_plaus_space = history_matching.wave(plaus_space, True)\n",
    "    print('Finished with', str(new_plaus_space))"
   ]
  },
  {
   "cell_type": "code",
   "execution_count": 5,
   "metadata": {},
   "outputs": [
    {
     "data": {
      "image/png": "[encoded data removed]",
      "text/plain": [
       "<Figure size 432x288 with 1 Axes>"
      ]
     },
     "metadata": {
      "needs_background": "light"
     },
     "output_type": "display_data"
    },
    {
     "data": {
      "image/png": "[encoded data removed]",
      "text/plain": [
       "<Figure size 432x288 with 1 Axes>"
      ]
     },
     "metadata": {
      "needs_background": "light"
     },
     "output_type": "display_data"
    },
    {
     "name": "stdout",
     "output_type": "stream",
     "text": [
      "Finished with [3 4 5]\n"
     ]
    }
   ],
   "source": [
    "# initial plausible space to explore\n",
    "# note that SugarscapeCg only takes integer values for metabolism\n",
    "plaus_space = np.array(range(3, 10))\n",
    "run_history_matching(plaus_space)"
   ]
  },
  {
   "cell_type": "markdown",
   "metadata": {},
   "source": [
    "We first tested maximum metabolisms in the range [3, 9]. The first wave shows values in the range [3,5] are plausible, and the rest are implausible.\n",
    "\n",
    "In the second wave, we still find values in the range [3,5] are plausible.\n",
    "\n",
    "As the plausible space is unchanged after the second wave, the procedure ends.\n",
    "\n",
    "The \"correct\" result (used for the \"real world\" run) is 4."
   ]
  },
  {
   "cell_type": "markdown",
   "metadata": {},
   "source": [
    "## Exploring maximum vision"
   ]
  },
  {
   "cell_type": "markdown",
   "metadata": {},
   "source": [
    "Next, let's explore the maximum vision; that is, how far the agent can see and therefore move. The further they can see, the more spaces with food they can explore and, therefore, the less likely they are to die. We'll have the maximum metabolism set at 4."
   ]
  },
  {
   "cell_type": "code",
   "execution_count": 6,
   "metadata": {},
   "outputs": [],
   "source": [
    "def run_simulation(x):\n",
    "    SS = SugarscapeCg(max_vision=x)\n",
    "    SS.verbose = False\n",
    "    y =  SS.run_model(step_count=50)\n",
    "    return y"
   ]
  },
  {
   "cell_type": "code",
   "execution_count": 7,
   "metadata": {},
   "outputs": [
    {
     "data": {
      "image/png": "[encoded data removed]",
      "text/plain": [
       "<Figure size 432x288 with 1 Axes>"
      ]
     },
     "metadata": {
      "needs_background": "light"
     },
     "output_type": "display_data"
    },
    {
     "data": {
      "image/png": "[encoded data removed]",
      "text/plain": [
       "<Figure size 432x288 with 1 Axes>"
      ]
     },
     "metadata": {
      "needs_background": "light"
     },
     "output_type": "display_data"
    },
    {
     "data": {
      "image/png": "[encoded data removed]",
      "text/plain": [
       "<Figure size 432x288 with 1 Axes>"
      ]
     },
     "metadata": {
      "needs_background": "light"
     },
     "output_type": "display_data"
    },
    {
     "name": "stdout",
     "output_type": "stream",
     "text": [
      "Finished with [3 4]\n"
     ]
    }
   ],
   "source": [
    "# initial plausible space to explore\n",
    "# note that SugarscapeCg only takes integer values for vision\n",
    "plaus_space = np.array(range(3, 12))\n",
    "run_history_matching(plaus_space)"
   ]
  },
  {
   "cell_type": "markdown",
   "metadata": {},
   "source": [
    "In this case, maximum vision in the range [3, 5] was found to be plausible in the first wave.\n",
    "\n",
    "The range [3, 4] was found in the second wave.\n",
    "\n",
    "The third wave also found [3, 4], so we end the procedure.\n",
    "\n",
    "Interestingly, the maximum vision in the \"real world\" model was 6.\n",
    "\n",
    "Note that this history matching example only considers uncertainty in the ensemble runs. As you add more uncertainty, the chance of a given parameter being plausible increases. Therefore, if we include other uncertainties, perhaps we may find 6 to be plausible."
   ]
  },
  {
   "cell_type": "markdown",
   "metadata": {},
   "source": [
    "## Notes\n",
    "\n",
    "One thing of note, is that each time I run a procedure of waves, the results can differ. For example, sometimes the  max vision example stops with the plausible space [3, 4, 5], sometimes it stops with the space [3, 5], and on the above example it stopped with [3, 4]. I'm interested to know how people handle variability in the history matching results.\n",
    "\n",
    "One thought (also mentioned above), is that the only uncertainty I'm quantifying, when considering if a given parameter is plausible, is variance across ensembles. However, it is common to include uncertainty in the model itself and in the observation (expected output) that you are comparing the simulation results against. If these uncertainties are modelled correctly, will there be less variability in the history matching results?"
   ]
  }
 ],
 "metadata": {
  "kernelspec": {
   "display_name": "Python 3",
   "language": "python",
   "name": "python3"
  },
  "language_info": {
   "codemirror_mode": {
    "name": "ipython",
    "version": 3
   },
   "file_extension": ".py",
   "mimetype": "text/x-python",
   "name": "python",
   "nbconvert_exporter": "python",
   "pygments_lexer": "ipython3",
   "version": "3.6.9"
  }
 },
 "nbformat": 4,
 "nbformat_minor": 2
}
