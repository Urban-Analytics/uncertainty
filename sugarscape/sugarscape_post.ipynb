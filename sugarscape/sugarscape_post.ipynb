{
 "cells": [
  {
   "cell_type": "markdown",
   "metadata": {},
   "source": [
    "# History matching and ABC in sugarscape\n",
    "\n",
    "A very brief description of sugarscape:\n",
    "The environment grows sugar. The amount of sugar any location in the environment is capable of growing is in the range [0, 4].\n",
    "Agents wander around harvesting sugar. The eat only what they need, and carry around any extra sugar they harvested.\n",
    "After a location has been harvested, it regenerates its sugar by 1 each step in the simulation.\n",
    "If there's not enough sugar in the agent's current location they try to move to a new location that has more sugar. They're limited in how far they can see and, therefore, how far they can move.\n",
    "If they can't find enough sugar they die.\n"
   ]
  },
  {
   "cell_type": "code",
   "execution_count": 1,
   "metadata": {},
   "outputs": [],
   "source": [
    "import numpy as np\n",
    "import random\n",
    "from time import strftime, time\n",
    "import multiprocessing as mp\n",
    "from tabulate import tabulate\n",
    "\n",
    "from sugarscape_cg_simple.model import SugarscapeCg\n",
    "import plot_sugarscape_env\n",
    "import history_matching\n",
    "import sugarscape_hm"
   ]
  },
  {
   "cell_type": "markdown",
   "metadata": {},
   "source": [
    "Plot the sugarscape environment. Each space in the grid as an amount of sugar ranging between 0 and 4. This is the maximum amount of sugar that a given space can have at any time. The amount a space contains reduces as it is harvested, and grows back at a constant rate of 1 per time step in the simulation."
   ]
  },
  {
   "cell_type": "code",
   "execution_count": 2,
   "metadata": {},
   "outputs": [
    {
     "data": {
      "image/png": "[encoded data removed]",
      "text/plain": [
       "<Figure size 432x288 with 2 Axes>"
      ]
     },
     "metadata": {
      "needs_background": "light"
     },
     "output_type": "display_data"
    }
   ],
   "source": [
    "plot_sugarscape_env.plot()"
   ]
  },
  {
   "cell_type": "markdown",
   "metadata": {},
   "source": [
    "## Exploring maximum metabolism"
   ]
  },
  {
   "cell_type": "markdown",
   "metadata": {},
   "source": [
    "Each agent's metabolism is in the range [1,x] where x is the maximum possible metabolism an agent can have. The higher an agent's metabolism, the more food they need to eat to survive.\n",
    "In this example, we'll explore what value of x is plausible.\n",
    "\n",
    "The initial population in the model is 100 and agents die if there is not enough food---in fact, this is the only way they can die.\n",
    "Our output of interest is: how many agents can the environment sustain?"
   ]
  },
  {
   "cell_type": "code",
   "execution_count": 3,
   "metadata": {},
   "outputs": [],
   "source": [
    "def run_simulation(x):\n",
    "    SS = SugarscapeCg(initial_population=100, max_metabolism=x)\n",
    "    SS.verbose = False\n",
    "    # the model is simple enough that 30 steps is sufficient to reach a steady population state\n",
    "    y =  SS.run_model(step_count=30)\n",
    "    return y  # total number of agents remaining in the simulation"
   ]
  },
  {
   "cell_type": "markdown",
   "metadata": {},
   "source": [
    "We'll pretend one given run of the simulation is the \"real world\".\n",
    "In this run, we set the maximum metabolism to be 4."
   ]
  },
  {
   "cell_type": "code",
   "execution_count": 4,
   "metadata": {},
   "outputs": [],
   "source": [
    "obs = run_simulation(4)"
   ]
  },
  {
   "cell_type": "markdown",
   "metadata": {},
   "source": [
    "## History matching"
   ]
  },
  {
   "cell_type": "markdown",
   "metadata": {},
   "source": [
    "First, let's run history matching to see what values of maximum metabolism are plausible."
   ]
  },
  {
   "cell_type": "code",
   "execution_count": 5,
   "metadata": {},
   "outputs": [],
   "source": [
    "history_matching.y = obs  # the real world observation\n",
    "history_matching.f = run_simulation  # the function (simulation) used for history matching\n",
    "\n",
    "def run_history_matching(new_plaus_space):\n",
    "    plaus_space = []  # not yet explored\n",
    "    while not history_matching.is_all_plausible(plaus_space, new_plaus_space):\n",
    "        plaus_space = new_plaus_space\n",
    "        new_plaus_space, implaus_scores, v_ens = history_matching.wave(plaus_space)\n",
    "    print('Finished with', str(new_plaus_space))\n",
    "    return new_plaus_space, v_ens"
   ]
  },
  {
   "cell_type": "code",
   "execution_count": 6,
   "metadata": {},
   "outputs": [
    {
     "name": "stdout",
     "output_type": "stream",
     "text": [
      "[1 2 3 4]\n",
      "[3, 4]\n",
      "Finished with [3, 4]\n"
     ]
    }
   ],
   "source": [
    "# initial plausible space to explore\n",
    "# note that SugarscapeCg only takes integer values for metabolism\n",
    "plaus_space = np.array(range(1, 5))\n",
    "plaus_space, uncert = run_history_matching(plaus_space)"
   ]
  },
  {
   "cell_type": "markdown",
   "metadata": {},
   "source": [
    "We started with the set [1, 2, 3, 4] as initial plausible values for maximum metabolism.\n",
    "The history matching process narrowed this down to 3 and 4 being the only ones plausible."
   ]
  },
  {
   "cell_type": "markdown",
   "metadata": {},
   "source": [
    "## Approximate Bayesian Computation"
   ]
  },
  {
   "cell_type": "markdown",
   "metadata": {},
   "source": [
    "Next, let's do some basic approximate bayesian computation to get posteriors for these two plausible values.\n",
    "\n",
    "We have 100 particles and for each particle we randomly sample a value (in this case either 3 or 4) and run the simulation. If the error (absolute difference between simulation and \"real world\") is smaller than our uncertainty (in this case, uncertainty caused by ensemble variance) the sample is kept. If the error is larger than our uncertainty, we take another random sample for our metabolism parameter and retest (note that the new random sample chosen could coincidentally be the same value again)."
   ]
  },
  {
   "cell_type": "code",
   "execution_count": 7,
   "metadata": {},
   "outputs": [
    {
     "name": "stdout",
     "output_type": "stream",
     "text": [
      "Time taken (s): 59\n",
      "Results:\n",
      "  parameter    posterior\n",
      "-----------  -----------\n",
      "          3           55\n",
      "          4           45\n"
     ]
    }
   ],
   "source": [
    "# set parameters, specify functions and initialise storage objects\n",
    "N = 100  # number of particles\n",
    "theta = np.zeros(N)  # particle results\n",
    "rho = lambda x,y: abs(x-y)  # measure of error\n",
    "\n",
    "def abc(_):\n",
    "    d = uncert + 1  # initialise d to be greater than the tolerance threshold\n",
    "    while d > uncert:\n",
    "        sample = plaus_space[random.randint(0, len(plaus_space)-1)]  # sample from the prior\n",
    "        x = run_simulation(sample)  # get simulation result\n",
    "        d = rho(obs, x)  # compute distance\n",
    "    return sample  # store the accepted value\n",
    "\n",
    "# run the algorithm\n",
    "a = time()\n",
    "pool = mp.Pool(mp.cpu_count())\n",
    "theta = pool.map_async(abc, range(N)).get()\n",
    "pool.close()\n",
    "b = time()\n",
    "\n",
    "# print results\n",
    "print('Time taken (s):', str(round(b - a)))\n",
    "print('Results:')\n",
    "table = []\n",
    "for x in plaus_space:\n",
    "    table.append([x, theta.count(x)])\n",
    "print(tabulate(table, headers=['parameter', 'posterior']))"
   ]
  },
  {
   "cell_type": "markdown",
   "metadata": {},
   "source": [
    "Out of 100 particles, the value 3 was found to be a suitable value 55 times, and the value 4 was found suitable 45 times."
   ]
  }
 ],
 "metadata": {
  "kernelspec": {
   "display_name": "Python 3",
   "language": "python",
   "name": "python3"
  },
  "language_info": {
   "codemirror_mode": {
    "name": "ipython",
    "version": 3
   },
   "file_extension": ".py",
   "mimetype": "text/x-python",
   "name": "python",
   "nbconvert_exporter": "python",
   "pygments_lexer": "ipython3",
   "version": "3.8.2"
  }
 },
 "nbformat": 4,
 "nbformat_minor": 2
}
